{
 "cells": [
  {
   "cell_type": "code",
   "execution_count": 57,
   "metadata": {
    "collapsed": true,
    "deletable": true,
    "editable": true
   },
   "outputs": [],
   "source": [
    "from PIL import Image\n",
    "import pytesseract\n",
    "import cv2\n",
    "import numpy as np\n",
    "import matplotlib.pyplot as plt\n",
    "%matplotlib inline"
   ]
  },
  {
   "cell_type": "code",
   "execution_count": 68,
   "metadata": {
    "collapsed": false,
    "deletable": true,
    "editable": true
   },
   "outputs": [],
   "source": [
    "filename = \"../../data/companyNameLine.png\"\n",
    "baseHeight = 30.0\n",
    "connectivity = 2\n",
    "img = cv2.imread(filename)\n",
    "height, width = img.shape[:2]\n",
    "scale = 3\n",
    "imgres = cv2.resize(img,(scale*width, scale*height), interpolation = cv2.INTER_NEAREST)\n",
    "gray = cv2.cvtColor(img, cv2.COLOR_BGR2GRAY)\n",
    "height, width = gray.shape[:2]\n",
    "res = cv2.resize(gray,(scale*width, scale*height), interpolation = cv2.INTER_NEAREST)\n",
    "blur = cv2.GaussianBlur(res,(1,1),0)\n",
    "binary_output = np.zeros_like(res)\n",
    "binary_output[blur < 200] = 1\n",
    "img = Image.fromarray(np.uint8((imgres)))"
   ]
  },
  {
   "cell_type": "code",
   "execution_count": 69,
   "metadata": {
    "collapsed": false,
    "deletable": true,
    "editable": true
   },
   "outputs": [
    {
     "name": "stdout",
     "output_type": "stream",
     "text": [
      "MASIEREARH INCGRPDRMED\n"
     ]
    },
    {
     "data": {
      "text/plain": [
       "(-0.5, 635.5, 110.5, -0.5)"
      ]
     },
     "execution_count": 69,
     "metadata": {},
     "output_type": "execute_result"
    },
    {
     "data": {
      "image/png": "[encoded data removed]",
      "text/plain": [
       "<matplotlib.figure.Figure at 0x7fb2c132acc0>"
      ]
     },
     "metadata": {},
     "output_type": "display_data"
    }
   ],
   "source": [
    "output = pytesseract.image_to_string(img, config=\"-psm 7 -l eng\")\n",
    "print(output)\n",
    "plt.figure(figsize=(10, 20))\n",
    "plt.subplot(121)\n",
    "plt.imshow(imgres)\n",
    "plt.axis('off')\n",
    "plt.subplot(122)\n",
    "plt.imshow(cv2.cvtColor(binary_output*255, cv2.COLOR_GRAY2BGR))\n",
    "plt.axis('off')"
   ]
  },
  {
   "cell_type": "code",
   "execution_count": null,
   "metadata": {
    "collapsed": true,
    "deletable": true,
    "editable": true
   },
   "outputs": [],
   "source": []
  },
  {
   "cell_type": "code",
   "execution_count": null,
   "metadata": {
    "collapsed": true,
    "deletable": true,
    "editable": true
   },
   "outputs": [],
   "source": []
  }
 ],
 "metadata": {
  "kernelspec": {
   "display_name": "Python [conda env:carnd-term1]",
   "language": "python",
   "name": "conda-env-carnd-term1-py"
  },
  "language_info": {
   "codemirror_mode": {
    "name": "ipython",
    "version": 3
   },
   "file_extension": ".py",
   "mimetype": "text/x-python",
   "name": "python",
   "nbconvert_exporter": "python",
   "pygments_lexer": "ipython3",
   "version": "3.5.2"
  }
 },
 "nbformat": 4,
 "nbformat_minor": 2
}
